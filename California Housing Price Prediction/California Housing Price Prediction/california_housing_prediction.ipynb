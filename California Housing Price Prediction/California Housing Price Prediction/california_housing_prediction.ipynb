{
 "cells": [
  {
   "cell_type": "code",
   "execution_count": 308,
   "id": "a4ffd452",
   "metadata": {},
   "outputs": [],
   "source": [
    "import pandas as pd\n",
    "import numpy as np\n",
    "import matplotlib.pyplot as plt\n",
    "%matplotlib inline\n",
    "import seaborn as sns"
   ]
  },
  {
   "cell_type": "code",
   "execution_count": 309,
   "id": "cb0ff560",
   "metadata": {},
   "outputs": [
    {
     "name": "stdout",
     "output_type": "stream",
     "text": [
      "(20640, 10)\n",
      "          longitude      latitude  housing_median_age   total_rooms  \\\n",
      "count  20640.000000  20640.000000        20640.000000  20640.000000   \n",
      "mean    -119.569704     35.631861           28.639486   2635.763081   \n",
      "std        2.003532      2.135952           12.585558   2181.615252   \n",
      "min     -124.350000     32.540000            1.000000      2.000000   \n",
      "25%     -121.800000     33.930000           18.000000   1447.750000   \n",
      "50%     -118.490000     34.260000           29.000000   2127.000000   \n",
      "75%     -118.010000     37.710000           37.000000   3148.000000   \n",
      "max     -114.310000     41.950000           52.000000  39320.000000   \n",
      "\n",
      "       total_bedrooms    population    households  median_income  \\\n",
      "count    20433.000000  20640.000000  20640.000000   20640.000000   \n",
      "mean       537.870553   1425.476744    499.539680       3.870671   \n",
      "std        421.385070   1132.462122    382.329753       1.899822   \n",
      "min          1.000000      3.000000      1.000000       0.499900   \n",
      "25%        296.000000    787.000000    280.000000       2.563400   \n",
      "50%        435.000000   1166.000000    409.000000       3.534800   \n",
      "75%        647.000000   1725.000000    605.000000       4.743250   \n",
      "max       6445.000000  35682.000000   6082.000000      15.000100   \n",
      "\n",
      "       median_house_value  \n",
      "count        20640.000000  \n",
      "mean        206855.816909  \n",
      "std         115395.615874  \n",
      "min          14999.000000  \n",
      "25%         119600.000000  \n",
      "50%         179700.000000  \n",
      "75%         264725.000000  \n",
      "max         500001.000000  \n"
     ]
    }
   ],
   "source": [
    "california_df = pd.read_excel(r'1553768847_housing.xlsx')\n",
    "print(california_df.shape)\n",
    "print(california_df.describe())"
   ]
  },
  {
   "cell_type": "code",
   "execution_count": 310,
   "id": "607f7e94",
   "metadata": {},
   "outputs": [
    {
     "name": "stdout",
     "output_type": "stream",
     "text": [
      "<class 'pandas.core.frame.DataFrame'>\n",
      "RangeIndex: 20640 entries, 0 to 20639\n",
      "Data columns (total 10 columns):\n",
      " #   Column              Non-Null Count  Dtype  \n",
      "---  ------              --------------  -----  \n",
      " 0   longitude           20640 non-null  float64\n",
      " 1   latitude            20640 non-null  float64\n",
      " 2   housing_median_age  20640 non-null  int64  \n",
      " 3   total_rooms         20640 non-null  int64  \n",
      " 4   total_bedrooms      20433 non-null  float64\n",
      " 5   population          20640 non-null  int64  \n",
      " 6   households          20640 non-null  int64  \n",
      " 7   median_income       20640 non-null  float64\n",
      " 8   ocean_proximity     20640 non-null  object \n",
      " 9   median_house_value  20640 non-null  int64  \n",
      "dtypes: float64(4), int64(5), object(1)\n",
      "memory usage: 1.6+ MB\n",
      "None\n"
     ]
    }
   ],
   "source": [
    "print(california_df.info())"
   ]
  },
  {
   "cell_type": "code",
   "execution_count": 311,
   "id": "032fcd8e",
   "metadata": {},
   "outputs": [
    {
     "data": {
      "text/html": [
       "<div>\n",
       "<style scoped>\n",
       "    .dataframe tbody tr th:only-of-type {\n",
       "        vertical-align: middle;\n",
       "    }\n",
       "\n",
       "    .dataframe tbody tr th {\n",
       "        vertical-align: top;\n",
       "    }\n",
       "\n",
       "    .dataframe thead th {\n",
       "        text-align: right;\n",
       "    }\n",
       "</style>\n",
       "<table border=\"1\" class=\"dataframe\">\n",
       "  <thead>\n",
       "    <tr style=\"text-align: right;\">\n",
       "      <th></th>\n",
       "      <th>longitude</th>\n",
       "      <th>latitude</th>\n",
       "      <th>housing_median_age</th>\n",
       "      <th>total_rooms</th>\n",
       "      <th>total_bedrooms</th>\n",
       "      <th>population</th>\n",
       "      <th>households</th>\n",
       "      <th>median_income</th>\n",
       "      <th>ocean_proximity</th>\n",
       "      <th>median_house_value</th>\n",
       "    </tr>\n",
       "  </thead>\n",
       "  <tbody>\n",
       "    <tr>\n",
       "      <th>0</th>\n",
       "      <td>-122.23</td>\n",
       "      <td>37.88</td>\n",
       "      <td>41</td>\n",
       "      <td>880</td>\n",
       "      <td>129.0</td>\n",
       "      <td>322</td>\n",
       "      <td>126</td>\n",
       "      <td>8.3252</td>\n",
       "      <td>NEAR BAY</td>\n",
       "      <td>452600</td>\n",
       "    </tr>\n",
       "    <tr>\n",
       "      <th>1</th>\n",
       "      <td>-122.22</td>\n",
       "      <td>37.86</td>\n",
       "      <td>21</td>\n",
       "      <td>7099</td>\n",
       "      <td>1106.0</td>\n",
       "      <td>2401</td>\n",
       "      <td>1138</td>\n",
       "      <td>8.3014</td>\n",
       "      <td>NEAR BAY</td>\n",
       "      <td>358500</td>\n",
       "    </tr>\n",
       "    <tr>\n",
       "      <th>2</th>\n",
       "      <td>-122.24</td>\n",
       "      <td>37.85</td>\n",
       "      <td>52</td>\n",
       "      <td>1467</td>\n",
       "      <td>190.0</td>\n",
       "      <td>496</td>\n",
       "      <td>177</td>\n",
       "      <td>7.2574</td>\n",
       "      <td>NEAR BAY</td>\n",
       "      <td>352100</td>\n",
       "    </tr>\n",
       "    <tr>\n",
       "      <th>3</th>\n",
       "      <td>-122.25</td>\n",
       "      <td>37.85</td>\n",
       "      <td>52</td>\n",
       "      <td>1274</td>\n",
       "      <td>235.0</td>\n",
       "      <td>558</td>\n",
       "      <td>219</td>\n",
       "      <td>5.6431</td>\n",
       "      <td>NEAR BAY</td>\n",
       "      <td>341300</td>\n",
       "    </tr>\n",
       "    <tr>\n",
       "      <th>4</th>\n",
       "      <td>-122.25</td>\n",
       "      <td>37.85</td>\n",
       "      <td>52</td>\n",
       "      <td>1627</td>\n",
       "      <td>280.0</td>\n",
       "      <td>565</td>\n",
       "      <td>259</td>\n",
       "      <td>3.8462</td>\n",
       "      <td>NEAR BAY</td>\n",
       "      <td>342200</td>\n",
       "    </tr>\n",
       "  </tbody>\n",
       "</table>\n",
       "</div>"
      ],
      "text/plain": [
       "   longitude  latitude  housing_median_age  total_rooms  total_bedrooms  \\\n",
       "0    -122.23     37.88                  41          880           129.0   \n",
       "1    -122.22     37.86                  21         7099          1106.0   \n",
       "2    -122.24     37.85                  52         1467           190.0   \n",
       "3    -122.25     37.85                  52         1274           235.0   \n",
       "4    -122.25     37.85                  52         1627           280.0   \n",
       "\n",
       "   population  households  median_income ocean_proximity  median_house_value  \n",
       "0         322         126         8.3252        NEAR BAY              452600  \n",
       "1        2401        1138         8.3014        NEAR BAY              358500  \n",
       "2         496         177         7.2574        NEAR BAY              352100  \n",
       "3         558         219         5.6431        NEAR BAY              341300  \n",
       "4         565         259         3.8462        NEAR BAY              342200  "
      ]
     },
     "execution_count": 311,
     "metadata": {},
     "output_type": "execute_result"
    }
   ],
   "source": [
    "california_df.head()"
   ]
  },
  {
   "cell_type": "code",
   "execution_count": 312,
   "id": "7ac0c77a",
   "metadata": {},
   "outputs": [
    {
     "data": {
      "text/plain": [
       "longitude               0\n",
       "latitude                0\n",
       "housing_median_age      0\n",
       "total_rooms             0\n",
       "total_bedrooms        207\n",
       "population              0\n",
       "households              0\n",
       "median_income           0\n",
       "ocean_proximity         0\n",
       "median_house_value      0\n",
       "dtype: int64"
      ]
     },
     "execution_count": 312,
     "metadata": {},
     "output_type": "execute_result"
    }
   ],
   "source": [
    "california_df.isnull().sum()"
   ]
  },
  {
   "cell_type": "code",
   "execution_count": 313,
   "id": "e1e1fe57",
   "metadata": {},
   "outputs": [],
   "source": [
    "california_df['total_bedrooms'].fillna(california_df['total_bedrooms'].mean(), inplace=True)"
   ]
  },
  {
   "cell_type": "code",
   "execution_count": 314,
   "id": "22a0b1b3",
   "metadata": {},
   "outputs": [],
   "source": [
    "from sklearn.preprocessing import LabelEncoder\n",
    "le = LabelEncoder()\n",
    "for i in california_df.columns:\n",
    "    california_df[i] = le.fit_transform(california_df[i])"
   ]
  },
  {
   "cell_type": "code",
   "execution_count": 315,
   "id": "c749b6b4",
   "metadata": {},
   "outputs": [
    {
     "data": {
      "text/html": [
       "<div>\n",
       "<style scoped>\n",
       "    .dataframe tbody tr th:only-of-type {\n",
       "        vertical-align: middle;\n",
       "    }\n",
       "\n",
       "    .dataframe tbody tr th {\n",
       "        vertical-align: top;\n",
       "    }\n",
       "\n",
       "    .dataframe thead th {\n",
       "        text-align: right;\n",
       "    }\n",
       "</style>\n",
       "<table border=\"1\" class=\"dataframe\">\n",
       "  <thead>\n",
       "    <tr style=\"text-align: right;\">\n",
       "      <th></th>\n",
       "      <th>longitude</th>\n",
       "      <th>latitude</th>\n",
       "      <th>housing_median_age</th>\n",
       "      <th>total_rooms</th>\n",
       "      <th>total_bedrooms</th>\n",
       "      <th>population</th>\n",
       "      <th>households</th>\n",
       "      <th>median_income</th>\n",
       "      <th>ocean_proximity</th>\n",
       "      <th>median_house_value</th>\n",
       "    </tr>\n",
       "  </thead>\n",
       "  <tbody>\n",
       "    <tr>\n",
       "      <th>0</th>\n",
       "      <td>170</td>\n",
       "      <td>515</td>\n",
       "      <td>40</td>\n",
       "      <td>733</td>\n",
       "      <td>128</td>\n",
       "      <td>296</td>\n",
       "      <td>125</td>\n",
       "      <td>12416</td>\n",
       "      <td>3</td>\n",
       "      <td>3665</td>\n",
       "    </tr>\n",
       "    <tr>\n",
       "      <th>1</th>\n",
       "      <td>171</td>\n",
       "      <td>513</td>\n",
       "      <td>20</td>\n",
       "      <td>5255</td>\n",
       "      <td>1104</td>\n",
       "      <td>2346</td>\n",
       "      <td>1129</td>\n",
       "      <td>12411</td>\n",
       "      <td>3</td>\n",
       "      <td>3074</td>\n",
       "    </tr>\n",
       "    <tr>\n",
       "      <th>2</th>\n",
       "      <td>169</td>\n",
       "      <td>512</td>\n",
       "      <td>51</td>\n",
       "      <td>1316</td>\n",
       "      <td>189</td>\n",
       "      <td>469</td>\n",
       "      <td>176</td>\n",
       "      <td>11941</td>\n",
       "      <td>3</td>\n",
       "      <td>3017</td>\n",
       "    </tr>\n",
       "    <tr>\n",
       "      <th>3</th>\n",
       "      <td>168</td>\n",
       "      <td>512</td>\n",
       "      <td>51</td>\n",
       "      <td>1123</td>\n",
       "      <td>234</td>\n",
       "      <td>531</td>\n",
       "      <td>218</td>\n",
       "      <td>10269</td>\n",
       "      <td>3</td>\n",
       "      <td>2917</td>\n",
       "    </tr>\n",
       "    <tr>\n",
       "      <th>4</th>\n",
       "      <td>168</td>\n",
       "      <td>512</td>\n",
       "      <td>51</td>\n",
       "      <td>1476</td>\n",
       "      <td>279</td>\n",
       "      <td>538</td>\n",
       "      <td>258</td>\n",
       "      <td>6656</td>\n",
       "      <td>3</td>\n",
       "      <td>2925</td>\n",
       "    </tr>\n",
       "  </tbody>\n",
       "</table>\n",
       "</div>"
      ],
      "text/plain": [
       "   longitude  latitude  housing_median_age  total_rooms  total_bedrooms  \\\n",
       "0        170       515                  40          733             128   \n",
       "1        171       513                  20         5255            1104   \n",
       "2        169       512                  51         1316             189   \n",
       "3        168       512                  51         1123             234   \n",
       "4        168       512                  51         1476             279   \n",
       "\n",
       "   population  households  median_income  ocean_proximity  median_house_value  \n",
       "0         296         125          12416                3                3665  \n",
       "1        2346        1129          12411                3                3074  \n",
       "2         469         176          11941                3                3017  \n",
       "3         531         218          10269                3                2917  \n",
       "4         538         258           6656                3                2925  "
      ]
     },
     "execution_count": 315,
     "metadata": {},
     "output_type": "execute_result"
    }
   ],
   "source": [
    "california_df.head()"
   ]
  },
  {
   "cell_type": "markdown",
   "id": "94dfd7f4",
   "metadata": {},
   "source": [
    "# Dataset Description :\n",
    "# -Variable and Description\n",
    "●\tlongitude (signed numeric - float) : Longitude value for the block in California, USA\n",
    "●\tlatitude (numeric - float ) : Latitude value for the block in California, USA\n",
    "●\thousing_median_age (numeric - int ) : Median age of the house in the block\n",
    "●\ttotal_rooms (numeric - int ) : Count of the total number of rooms (excluding bedrooms) in all houses in the block\n",
    "●\ttotal_bedrooms (numeric - float ) : Count of the total number of bedrooms in all houses in the block\n",
    "●\tpopulation (numeric - int ) : Count of the total number of population in the block\n",
    "●\thouseholds (numeric - int ) : Count of the total number of households in the block\n",
    "●\tmedian_income (numeric - float ) : Median of the total household income of all the houses in the block\n",
    "●\tocean_proximity (numeric - categorical ) : Type of the landscape of the block\n",
    "[ Unique Values : 'NEAR BAY', '<1H OCEAN', 'INLAND', 'NEAR OCEAN', 'ISLAND'  ]\n",
    "●\tmedian_house_value (numeric - int ) : Median of the household prices of all the houses in the block\n"
   ]
  },
  {
   "cell_type": "code",
   "execution_count": 316,
   "id": "06ab884a",
   "metadata": {},
   "outputs": [],
   "source": [
    "x = california_df.drop('median_house_value', axis=1)\n",
    "y = california_df['median_house_value']"
   ]
  },
  {
   "cell_type": "code",
   "execution_count": 317,
   "id": "848d68c6",
   "metadata": {},
   "outputs": [],
   "source": [
    "from sklearn.model_selection import train_test_split\n",
    "x_train, x_test, y_train, y_test = train_test_split(x,y, test_size=0.2, random_state=101)"
   ]
  },
  {
   "cell_type": "code",
   "execution_count": 318,
   "id": "9cabcf76",
   "metadata": {},
   "outputs": [
    {
     "name": "stdout",
     "output_type": "stream",
     "text": [
      "(16512, 9)\n",
      "(4128, 9)\n",
      "(16512,)\n",
      "(4128,)\n"
     ]
    }
   ],
   "source": [
    "print(x_train.shape)\n",
    "print(x_test.shape)\n",
    "print(y_train.shape)\n",
    "print(y_test.shape)"
   ]
  },
  {
   "cell_type": "code",
   "execution_count": 319,
   "id": "b0f374fb",
   "metadata": {},
   "outputs": [],
   "source": [
    "from sklearn.preprocessing import StandardScaler\n",
    "sc = StandardScaler()\n",
    "x_train_sc = sc.fit_transform(x_train)\n",
    "x_test_sc = sc.fit_transform(x_test)"
   ]
  },
  {
   "cell_type": "code",
   "execution_count": 320,
   "id": "316b1591",
   "metadata": {},
   "outputs": [],
   "source": [
    "from sklearn.linear_model import LinearRegression\n",
    "lrmodel = LinearRegression()\n",
    "lrmodel.fit(x_train_sc, y_train)\n",
    "lrmodel_pred = lrmodel.predict(x_test_sc)"
   ]
  },
  {
   "cell_type": "code",
   "execution_count": 321,
   "id": "4fe9ba61",
   "metadata": {},
   "outputs": [
    {
     "name": "stdout",
     "output_type": "stream",
     "text": [
      "RMSE for linear regression model is:  637.8190679973064\n"
     ]
    }
   ],
   "source": [
    "from sklearn.metrics import mean_squared_error\n",
    "lrmodelRMSE = np.sqrt(mean_squared_error(lrmodel_pred, y_test))\n",
    "print(\"RMSE for linear regression model is: \", lrmodelRMSE)"
   ]
  },
  {
   "cell_type": "code",
   "execution_count": 322,
   "id": "b535bd42",
   "metadata": {},
   "outputs": [],
   "source": [
    "from sklearn.tree import DecisionTreeRegressor\n",
    "decisiontreemodel = DecisionTreeRegressor()\n",
    "decisiontreemodel.fit(x_train_sc, y_train)\n",
    "decisiontreemodel_pred = decisiontreemodel.predict(x_test_sc)"
   ]
  },
  {
   "cell_type": "code",
   "execution_count": 323,
   "id": "c2013050",
   "metadata": {},
   "outputs": [
    {
     "name": "stdout",
     "output_type": "stream",
     "text": [
      "RMSE for decision tree regression model is:  664.5718985796668\n"
     ]
    }
   ],
   "source": [
    "decisiontreemodel_RMSE = np.sqrt(mean_squared_error(decisiontreemodel_pred, y_test))\n",
    "print(\"RMSE for decision tree regression model is: \", decisiontreemodel_RMSE)"
   ]
  },
  {
   "cell_type": "code",
   "execution_count": 324,
   "id": "01fcfa0c",
   "metadata": {},
   "outputs": [],
   "source": [
    "from sklearn.ensemble import RandomForestRegressor\n",
    "rfmodel = RandomForestRegressor()\n",
    "rfmodel.fit(x_train_sc, y_train)\n",
    "rfmodel_pred = rfmodel.predict(x_test_sc)"
   ]
  },
  {
   "cell_type": "code",
   "execution_count": 325,
   "id": "dec99b3b",
   "metadata": {},
   "outputs": [
    {
     "name": "stdout",
     "output_type": "stream",
     "text": [
      "RMSE for Random Forest regression model is:  474.54651787343187\n"
     ]
    }
   ],
   "source": [
    "rfmodel_RMSE = np.sqrt(mean_squared_error(rfmodel_pred, y_test))\n",
    "print(\"RMSE for Random Forest regression model is: \", rfmodel_RMSE)"
   ]
  },
  {
   "cell_type": "code",
   "execution_count": 326,
   "id": "78131c54",
   "metadata": {},
   "outputs": [
    {
     "data": {
      "text/plain": [
       "Index(['longitude', 'latitude', 'housing_median_age', 'total_rooms',\n",
       "       'total_bedrooms', 'population', 'households', 'median_income',\n",
       "       'ocean_proximity'],\n",
       "      dtype='object')"
      ]
     },
     "execution_count": 326,
     "metadata": {},
     "output_type": "execute_result"
    }
   ],
   "source": [
    "x_train.columns"
   ]
  },
  {
   "cell_type": "code",
   "execution_count": 327,
   "id": "53df4ffd",
   "metadata": {},
   "outputs": [
    {
     "data": {
      "text/plain": [
       "Index(['longitude', 'latitude', 'housing_median_age', 'total_rooms',\n",
       "       'total_bedrooms', 'population', 'households', 'median_income',\n",
       "       'ocean_proximity'],\n",
       "      dtype='object')"
      ]
     },
     "execution_count": 327,
     "metadata": {},
     "output_type": "execute_result"
    }
   ],
   "source": [
    "x_test.columns"
   ]
  },
  {
   "cell_type": "code",
   "execution_count": 328,
   "id": "8e736bf4",
   "metadata": {},
   "outputs": [],
   "source": [
    "x_train_median = x_train['median_income']\n",
    "x_test_median = x_test['median_income']"
   ]
  },
  {
   "cell_type": "code",
   "execution_count": 329,
   "id": "c1b04eca",
   "metadata": {},
   "outputs": [],
   "source": [
    "lrmodel.fit(x_train_median.values.reshape(-1,1), y_train.values.reshape(-1,1))\n",
    "median_test_pred = lrmodel.predict(x_test_median.values.reshape(-1,1))\n",
    "median_train_pred = lrmodel.predict(x_train_median.values.reshape(-1,1))"
   ]
  },
  {
   "cell_type": "code",
   "execution_count": 330,
   "id": "e7af6a5b",
   "metadata": {},
   "outputs": [
    {
     "name": "stdout",
     "output_type": "stream",
     "text": [
      "RMSE for train median_income linear regression model is:  753.4291161572626\n"
     ]
    }
   ],
   "source": [
    "median_train_RMSE = np.sqrt(mean_squared_error(median_train_pred, y_train))\n",
    "print(\"RMSE for train median_income linear regression model is: \", median_train_RMSE)"
   ]
  },
  {
   "cell_type": "code",
   "execution_count": 331,
   "id": "6a13d18e",
   "metadata": {},
   "outputs": [
    {
     "name": "stdout",
     "output_type": "stream",
     "text": [
      "RMSE for test median_income linear regression model is:  761.991604825971\n"
     ]
    }
   ],
   "source": [
    "median_test_RMSE = np.sqrt(mean_squared_error(median_test_pred, y_test))\n",
    "print(\"RMSE for test median_income linear regression model is: \", median_test_RMSE)"
   ]
  },
  {
   "cell_type": "code",
   "execution_count": 332,
   "id": "d316d720",
   "metadata": {},
   "outputs": [
    {
     "data": {
      "image/png": "[encoded data removed]",
      "text/plain": [
       "<Figure size 432x288 with 1 Axes>"
      ]
     },
     "metadata": {
      "needs_background": "light"
     },
     "output_type": "display_data"
    }
   ],
   "source": [
    "plt.scatter(x_train_median, y_train)\n",
    "plt.plot(x_train_median, median_train_pred, color='red')\n",
    "plt.show()"
   ]
  },
  {
   "cell_type": "code",
   "execution_count": 333,
   "id": "4931c1d0",
   "metadata": {},
   "outputs": [
    {
     "data": {
      "image/png": "[encoded data removed]",
      "text/plain": [
       "<Figure size 432x288 with 1 Axes>"
      ]
     },
     "metadata": {
      "needs_background": "light"
     },
     "output_type": "display_data"
    }
   ],
   "source": [
    "plt.scatter(x_test_median, y_test)\n",
    "plt.plot(x_test_median, median_test_pred, color='red')\n",
    "plt.show()"
   ]
  },
  {
   "cell_type": "markdown",
   "id": "c4023345",
   "metadata": {},
   "source": [
    "\n",
    "# Random Forest Regression Model is the better model when prediction median house value using all independent variables, so we can use it as the final model"
   ]
  }
 ],
 "metadata": {
  "kernelspec": {
   "display_name": "Python 3",
   "language": "python",
   "name": "python3"
  },
  "language_info": {
   "codemirror_mode": {
    "name": "ipython",
    "version": 3
   },
   "file_extension": ".py",
   "mimetype": "text/x-python",
   "name": "python",
   "nbconvert_exporter": "python",
   "pygments_lexer": "ipython3",
   "version": "3.8.8"
  }
 },
 "nbformat": 4,
 "nbformat_minor": 5
}
